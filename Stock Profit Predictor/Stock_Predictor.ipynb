{
  "nbformat": 4,
  "nbformat_minor": 0,
  "metadata": {
    "colab": {
      "provenance": []
    },
    "kernelspec": {
      "name": "python3",
      "display_name": "Python 3"
    },
    "language_info": {
      "name": "python"
    }
  },
  "cells": [
    {
      "cell_type": "markdown",
      "source": [
        "IMPORT DEPENDENCIES"
      ],
      "metadata": {
        "id": "af9rcEWZQP_b"
      }
    },
    {
      "cell_type": "code",
      "execution_count": 1,
      "metadata": {
        "id": "X5YigF2tuSXW"
      },
      "outputs": [],
      "source": [
        "import pandas as pd\n",
        "import numpy as np\n",
        "import matplotlib.pyplot as plt\n",
        "from sklearn.linear_model import LogisticRegression\n",
        "from sklearn.model_selection import train_test_split\n",
        "from sklearn.metrics import accuracy_score\n",
        "from sklearn.model_selection import cross_val_score"
      ]
    },
    {
      "cell_type": "markdown",
      "source": [
        "PUT DATA IN PANDAS DATA FRAME"
      ],
      "metadata": {
        "id": "Hbj3EWolQUcB"
      }
    },
    {
      "cell_type": "code",
      "source": [
        "stock_dat = pd.read_csv('/content/StockDataInt.csv')"
      ],
      "metadata": {
        "id": "lAwNbX6kuzo8"
      },
      "execution_count": 2,
      "outputs": []
    },
    {
      "cell_type": "markdown",
      "source": [
        "VIEW DATA"
      ],
      "metadata": {
        "id": "L0GIxeQ0QWq3"
      }
    },
    {
      "cell_type": "code",
      "source": [
        "stock_dat.head()\n"
      ],
      "metadata": {
        "colab": {
          "base_uri": "https://localhost:8080/",
          "height": 250
        },
        "id": "7CUuC2m6vKMJ",
        "outputId": "1dae23d1-c1b6-45b4-e1bd-fa516c4bee42"
      },
      "execution_count": 3,
      "outputs": [
        {
          "output_type": "execute_result",
          "data": {
            "text/plain": [
              "   Unnamed: 0  Entry_date Entry_time   Type  Entry_price  Exit_price  \\\n",
              "0           0  2011-01-04   09:30:00  Short     11822.00   11611.200   \n",
              "1           1  2011-01-05   09:40:00  Short     11474.00   11382.000   \n",
              "2           2  2011-01-06   13:50:00  Short     11259.75   11304.789   \n",
              "3           3  2011-01-06   14:50:00  Short     11253.00   11251.300   \n",
              "4           4  2011-01-07   09:50:00  Short     11150.00   11194.600   \n",
              "\n",
              "  Exit_time    Profit Reason  \n",
              "0  15:20:00  206.0712    EOD  \n",
              "1  15:20:00   87.4104    EOD  \n",
              "2  14:15:00  -49.5429     SL  \n",
              "3  15:20:00   -2.8012    EOD  \n",
              "4  11:45:00  -49.0600     SL  "
            ],
            "text/html": [
              "\n",
              "  <div id=\"df-83c3c854-3595-4be4-b836-078e9d4dfd5f\">\n",
              "    <div class=\"colab-df-container\">\n",
              "      <div>\n",
              "<style scoped>\n",
              "    .dataframe tbody tr th:only-of-type {\n",
              "        vertical-align: middle;\n",
              "    }\n",
              "\n",
              "    .dataframe tbody tr th {\n",
              "        vertical-align: top;\n",
              "    }\n",
              "\n",
              "    .dataframe thead th {\n",
              "        text-align: right;\n",
              "    }\n",
              "</style>\n",
              "<table border=\"1\" class=\"dataframe\">\n",
              "  <thead>\n",
              "    <tr style=\"text-align: right;\">\n",
              "      <th></th>\n",
              "      <th>Unnamed: 0</th>\n",
              "      <th>Entry_date</th>\n",
              "      <th>Entry_time</th>\n",
              "      <th>Type</th>\n",
              "      <th>Entry_price</th>\n",
              "      <th>Exit_price</th>\n",
              "      <th>Exit_time</th>\n",
              "      <th>Profit</th>\n",
              "      <th>Reason</th>\n",
              "    </tr>\n",
              "  </thead>\n",
              "  <tbody>\n",
              "    <tr>\n",
              "      <th>0</th>\n",
              "      <td>0</td>\n",
              "      <td>2011-01-04</td>\n",
              "      <td>09:30:00</td>\n",
              "      <td>Short</td>\n",
              "      <td>11822.00</td>\n",
              "      <td>11611.200</td>\n",
              "      <td>15:20:00</td>\n",
              "      <td>206.0712</td>\n",
              "      <td>EOD</td>\n",
              "    </tr>\n",
              "    <tr>\n",
              "      <th>1</th>\n",
              "      <td>1</td>\n",
              "      <td>2011-01-05</td>\n",
              "      <td>09:40:00</td>\n",
              "      <td>Short</td>\n",
              "      <td>11474.00</td>\n",
              "      <td>11382.000</td>\n",
              "      <td>15:20:00</td>\n",
              "      <td>87.4104</td>\n",
              "      <td>EOD</td>\n",
              "    </tr>\n",
              "    <tr>\n",
              "      <th>2</th>\n",
              "      <td>2</td>\n",
              "      <td>2011-01-06</td>\n",
              "      <td>13:50:00</td>\n",
              "      <td>Short</td>\n",
              "      <td>11259.75</td>\n",
              "      <td>11304.789</td>\n",
              "      <td>14:15:00</td>\n",
              "      <td>-49.5429</td>\n",
              "      <td>SL</td>\n",
              "    </tr>\n",
              "    <tr>\n",
              "      <th>3</th>\n",
              "      <td>3</td>\n",
              "      <td>2011-01-06</td>\n",
              "      <td>14:50:00</td>\n",
              "      <td>Short</td>\n",
              "      <td>11253.00</td>\n",
              "      <td>11251.300</td>\n",
              "      <td>15:20:00</td>\n",
              "      <td>-2.8012</td>\n",
              "      <td>EOD</td>\n",
              "    </tr>\n",
              "    <tr>\n",
              "      <th>4</th>\n",
              "      <td>4</td>\n",
              "      <td>2011-01-07</td>\n",
              "      <td>09:50:00</td>\n",
              "      <td>Short</td>\n",
              "      <td>11150.00</td>\n",
              "      <td>11194.600</td>\n",
              "      <td>11:45:00</td>\n",
              "      <td>-49.0600</td>\n",
              "      <td>SL</td>\n",
              "    </tr>\n",
              "  </tbody>\n",
              "</table>\n",
              "</div>\n",
              "      <button class=\"colab-df-convert\" onclick=\"convertToInteractive('df-83c3c854-3595-4be4-b836-078e9d4dfd5f')\"\n",
              "              title=\"Convert this dataframe to an interactive table.\"\n",
              "              style=\"display:none;\">\n",
              "        \n",
              "  <svg xmlns=\"http://www.w3.org/2000/svg\" height=\"24px\"viewBox=\"0 0 24 24\"\n",
              "       width=\"24px\">\n",
              "    <path d=\"M0 0h24v24H0V0z\" fill=\"none\"/>\n",
              "    <path d=\"M18.56 5.44l.94 2.06.94-2.06 2.06-.94-2.06-.94-.94-2.06-.94 2.06-2.06.94zm-11 1L8.5 8.5l.94-2.06 2.06-.94-2.06-.94L8.5 2.5l-.94 2.06-2.06.94zm10 10l.94 2.06.94-2.06 2.06-.94-2.06-.94-.94-2.06-.94 2.06-2.06.94z\"/><path d=\"M17.41 7.96l-1.37-1.37c-.4-.4-.92-.59-1.43-.59-.52 0-1.04.2-1.43.59L10.3 9.45l-7.72 7.72c-.78.78-.78 2.05 0 2.83L4 21.41c.39.39.9.59 1.41.59.51 0 1.02-.2 1.41-.59l7.78-7.78 2.81-2.81c.8-.78.8-2.07 0-2.86zM5.41 20L4 18.59l7.72-7.72 1.47 1.35L5.41 20z\"/>\n",
              "  </svg>\n",
              "      </button>\n",
              "      \n",
              "  <style>\n",
              "    .colab-df-container {\n",
              "      display:flex;\n",
              "      flex-wrap:wrap;\n",
              "      gap: 12px;\n",
              "    }\n",
              "\n",
              "    .colab-df-convert {\n",
              "      background-color: #E8F0FE;\n",
              "      border: none;\n",
              "      border-radius: 50%;\n",
              "      cursor: pointer;\n",
              "      display: none;\n",
              "      fill: #1967D2;\n",
              "      height: 32px;\n",
              "      padding: 0 0 0 0;\n",
              "      width: 32px;\n",
              "    }\n",
              "\n",
              "    .colab-df-convert:hover {\n",
              "      background-color: #E2EBFA;\n",
              "      box-shadow: 0px 1px 2px rgba(60, 64, 67, 0.3), 0px 1px 3px 1px rgba(60, 64, 67, 0.15);\n",
              "      fill: #174EA6;\n",
              "    }\n",
              "\n",
              "    [theme=dark] .colab-df-convert {\n",
              "      background-color: #3B4455;\n",
              "      fill: #D2E3FC;\n",
              "    }\n",
              "\n",
              "    [theme=dark] .colab-df-convert:hover {\n",
              "      background-color: #434B5C;\n",
              "      box-shadow: 0px 1px 3px 1px rgba(0, 0, 0, 0.15);\n",
              "      filter: drop-shadow(0px 1px 2px rgba(0, 0, 0, 0.3));\n",
              "      fill: #FFFFFF;\n",
              "    }\n",
              "  </style>\n",
              "\n",
              "      <script>\n",
              "        const buttonEl =\n",
              "          document.querySelector('#df-83c3c854-3595-4be4-b836-078e9d4dfd5f button.colab-df-convert');\n",
              "        buttonEl.style.display =\n",
              "          google.colab.kernel.accessAllowed ? 'block' : 'none';\n",
              "\n",
              "        async function convertToInteractive(key) {\n",
              "          const element = document.querySelector('#df-83c3c854-3595-4be4-b836-078e9d4dfd5f');\n",
              "          const dataTable =\n",
              "            await google.colab.kernel.invokeFunction('convertToInteractive',\n",
              "                                                     [key], {});\n",
              "          if (!dataTable) return;\n",
              "\n",
              "          const docLinkHtml = 'Like what you see? Visit the ' +\n",
              "            '<a target=\"_blank\" href=https://colab.research.google.com/notebooks/data_table.ipynb>data table notebook</a>'\n",
              "            + ' to learn more about interactive tables.';\n",
              "          element.innerHTML = '';\n",
              "          dataTable['output_type'] = 'display_data';\n",
              "          await google.colab.output.renderOutput(dataTable, element);\n",
              "          const docLink = document.createElement('div');\n",
              "          docLink.innerHTML = docLinkHtml;\n",
              "          element.appendChild(docLink);\n",
              "        }\n",
              "      </script>\n",
              "    </div>\n",
              "  </div>\n",
              "  "
            ]
          },
          "metadata": {},
          "execution_count": 3
        }
      ]
    },
    {
      "cell_type": "markdown",
      "source": [
        "FEATURE ENCODE\n",
        "\n",
        "1.   IN 'Type' Short = 1 , Long = 0\n",
        "2.   IN 'Reason' EOD = 1, SL = 0, Target = 2\n",
        "3.   IN 'Profit' profit(+ve) = 1, profit(-ve) = 0 \n"
      ],
      "metadata": {
        "id": "iAdGL_uVQY5c"
      }
    },
    {
      "cell_type": "code",
      "source": [
        "stock_dat['Type'] = stock_dat['Type'].apply(lambda x : 1 if x == 'Short' else 0)\n",
        "stock_dat['Reason'] = stock_dat['Reason'].apply(lambda x : 1 if x == 'EOD' else (0 if x == 'SL' else (2 if x == 'Target' else None)))\n",
        "stock_dat['Profit'] = stock_dat['Profit'].apply(lambda x : 1 if x >= 0 else 0)"
      ],
      "metadata": {
        "id": "SAEQPoiAvL4j"
      },
      "execution_count": 4,
      "outputs": []
    },
    {
      "cell_type": "markdown",
      "source": [
        "CHECK DATA FOR ENCODINGS"
      ],
      "metadata": {
        "id": "QwcKRV1LQ89l"
      }
    },
    {
      "cell_type": "code",
      "source": [
        "stock_dat.head()"
      ],
      "metadata": {
        "colab": {
          "base_uri": "https://localhost:8080/",
          "height": 206
        },
        "id": "7eWJSXk83I7B",
        "outputId": "6963a5b7-37b8-473c-e9d3-7545f786636d"
      },
      "execution_count": 5,
      "outputs": [
        {
          "output_type": "execute_result",
          "data": {
            "text/plain": [
              "   Unnamed: 0  Entry_date Entry_time  Type  Entry_price  Exit_price Exit_time  \\\n",
              "0           0  2011-01-04   09:30:00     1     11822.00   11611.200  15:20:00   \n",
              "1           1  2011-01-05   09:40:00     1     11474.00   11382.000  15:20:00   \n",
              "2           2  2011-01-06   13:50:00     1     11259.75   11304.789  14:15:00   \n",
              "3           3  2011-01-06   14:50:00     1     11253.00   11251.300  15:20:00   \n",
              "4           4  2011-01-07   09:50:00     1     11150.00   11194.600  11:45:00   \n",
              "\n",
              "   Profit  Reason  \n",
              "0       1       1  \n",
              "1       1       1  \n",
              "2       0       0  \n",
              "3       0       1  \n",
              "4       0       0  "
            ],
            "text/html": [
              "\n",
              "  <div id=\"df-3ec4133f-ebb0-4c5b-a597-e63a40ac060e\">\n",
              "    <div class=\"colab-df-container\">\n",
              "      <div>\n",
              "<style scoped>\n",
              "    .dataframe tbody tr th:only-of-type {\n",
              "        vertical-align: middle;\n",
              "    }\n",
              "\n",
              "    .dataframe tbody tr th {\n",
              "        vertical-align: top;\n",
              "    }\n",
              "\n",
              "    .dataframe thead th {\n",
              "        text-align: right;\n",
              "    }\n",
              "</style>\n",
              "<table border=\"1\" class=\"dataframe\">\n",
              "  <thead>\n",
              "    <tr style=\"text-align: right;\">\n",
              "      <th></th>\n",
              "      <th>Unnamed: 0</th>\n",
              "      <th>Entry_date</th>\n",
              "      <th>Entry_time</th>\n",
              "      <th>Type</th>\n",
              "      <th>Entry_price</th>\n",
              "      <th>Exit_price</th>\n",
              "      <th>Exit_time</th>\n",
              "      <th>Profit</th>\n",
              "      <th>Reason</th>\n",
              "    </tr>\n",
              "  </thead>\n",
              "  <tbody>\n",
              "    <tr>\n",
              "      <th>0</th>\n",
              "      <td>0</td>\n",
              "      <td>2011-01-04</td>\n",
              "      <td>09:30:00</td>\n",
              "      <td>1</td>\n",
              "      <td>11822.00</td>\n",
              "      <td>11611.200</td>\n",
              "      <td>15:20:00</td>\n",
              "      <td>1</td>\n",
              "      <td>1</td>\n",
              "    </tr>\n",
              "    <tr>\n",
              "      <th>1</th>\n",
              "      <td>1</td>\n",
              "      <td>2011-01-05</td>\n",
              "      <td>09:40:00</td>\n",
              "      <td>1</td>\n",
              "      <td>11474.00</td>\n",
              "      <td>11382.000</td>\n",
              "      <td>15:20:00</td>\n",
              "      <td>1</td>\n",
              "      <td>1</td>\n",
              "    </tr>\n",
              "    <tr>\n",
              "      <th>2</th>\n",
              "      <td>2</td>\n",
              "      <td>2011-01-06</td>\n",
              "      <td>13:50:00</td>\n",
              "      <td>1</td>\n",
              "      <td>11259.75</td>\n",
              "      <td>11304.789</td>\n",
              "      <td>14:15:00</td>\n",
              "      <td>0</td>\n",
              "      <td>0</td>\n",
              "    </tr>\n",
              "    <tr>\n",
              "      <th>3</th>\n",
              "      <td>3</td>\n",
              "      <td>2011-01-06</td>\n",
              "      <td>14:50:00</td>\n",
              "      <td>1</td>\n",
              "      <td>11253.00</td>\n",
              "      <td>11251.300</td>\n",
              "      <td>15:20:00</td>\n",
              "      <td>0</td>\n",
              "      <td>1</td>\n",
              "    </tr>\n",
              "    <tr>\n",
              "      <th>4</th>\n",
              "      <td>4</td>\n",
              "      <td>2011-01-07</td>\n",
              "      <td>09:50:00</td>\n",
              "      <td>1</td>\n",
              "      <td>11150.00</td>\n",
              "      <td>11194.600</td>\n",
              "      <td>11:45:00</td>\n",
              "      <td>0</td>\n",
              "      <td>0</td>\n",
              "    </tr>\n",
              "  </tbody>\n",
              "</table>\n",
              "</div>\n",
              "      <button class=\"colab-df-convert\" onclick=\"convertToInteractive('df-3ec4133f-ebb0-4c5b-a597-e63a40ac060e')\"\n",
              "              title=\"Convert this dataframe to an interactive table.\"\n",
              "              style=\"display:none;\">\n",
              "        \n",
              "  <svg xmlns=\"http://www.w3.org/2000/svg\" height=\"24px\"viewBox=\"0 0 24 24\"\n",
              "       width=\"24px\">\n",
              "    <path d=\"M0 0h24v24H0V0z\" fill=\"none\"/>\n",
              "    <path d=\"M18.56 5.44l.94 2.06.94-2.06 2.06-.94-2.06-.94-.94-2.06-.94 2.06-2.06.94zm-11 1L8.5 8.5l.94-2.06 2.06-.94-2.06-.94L8.5 2.5l-.94 2.06-2.06.94zm10 10l.94 2.06.94-2.06 2.06-.94-2.06-.94-.94-2.06-.94 2.06-2.06.94z\"/><path d=\"M17.41 7.96l-1.37-1.37c-.4-.4-.92-.59-1.43-.59-.52 0-1.04.2-1.43.59L10.3 9.45l-7.72 7.72c-.78.78-.78 2.05 0 2.83L4 21.41c.39.39.9.59 1.41.59.51 0 1.02-.2 1.41-.59l7.78-7.78 2.81-2.81c.8-.78.8-2.07 0-2.86zM5.41 20L4 18.59l7.72-7.72 1.47 1.35L5.41 20z\"/>\n",
              "  </svg>\n",
              "      </button>\n",
              "      \n",
              "  <style>\n",
              "    .colab-df-container {\n",
              "      display:flex;\n",
              "      flex-wrap:wrap;\n",
              "      gap: 12px;\n",
              "    }\n",
              "\n",
              "    .colab-df-convert {\n",
              "      background-color: #E8F0FE;\n",
              "      border: none;\n",
              "      border-radius: 50%;\n",
              "      cursor: pointer;\n",
              "      display: none;\n",
              "      fill: #1967D2;\n",
              "      height: 32px;\n",
              "      padding: 0 0 0 0;\n",
              "      width: 32px;\n",
              "    }\n",
              "\n",
              "    .colab-df-convert:hover {\n",
              "      background-color: #E2EBFA;\n",
              "      box-shadow: 0px 1px 2px rgba(60, 64, 67, 0.3), 0px 1px 3px 1px rgba(60, 64, 67, 0.15);\n",
              "      fill: #174EA6;\n",
              "    }\n",
              "\n",
              "    [theme=dark] .colab-df-convert {\n",
              "      background-color: #3B4455;\n",
              "      fill: #D2E3FC;\n",
              "    }\n",
              "\n",
              "    [theme=dark] .colab-df-convert:hover {\n",
              "      background-color: #434B5C;\n",
              "      box-shadow: 0px 1px 3px 1px rgba(0, 0, 0, 0.15);\n",
              "      filter: drop-shadow(0px 1px 2px rgba(0, 0, 0, 0.3));\n",
              "      fill: #FFFFFF;\n",
              "    }\n",
              "  </style>\n",
              "\n",
              "      <script>\n",
              "        const buttonEl =\n",
              "          document.querySelector('#df-3ec4133f-ebb0-4c5b-a597-e63a40ac060e button.colab-df-convert');\n",
              "        buttonEl.style.display =\n",
              "          google.colab.kernel.accessAllowed ? 'block' : 'none';\n",
              "\n",
              "        async function convertToInteractive(key) {\n",
              "          const element = document.querySelector('#df-3ec4133f-ebb0-4c5b-a597-e63a40ac060e');\n",
              "          const dataTable =\n",
              "            await google.colab.kernel.invokeFunction('convertToInteractive',\n",
              "                                                     [key], {});\n",
              "          if (!dataTable) return;\n",
              "\n",
              "          const docLinkHtml = 'Like what you see? Visit the ' +\n",
              "            '<a target=\"_blank\" href=https://colab.research.google.com/notebooks/data_table.ipynb>data table notebook</a>'\n",
              "            + ' to learn more about interactive tables.';\n",
              "          element.innerHTML = '';\n",
              "          dataTable['output_type'] = 'display_data';\n",
              "          await google.colab.output.renderOutput(dataTable, element);\n",
              "          const docLink = document.createElement('div');\n",
              "          docLink.innerHTML = docLinkHtml;\n",
              "          element.appendChild(docLink);\n",
              "        }\n",
              "      </script>\n",
              "    </div>\n",
              "  </div>\n",
              "  "
            ]
          },
          "metadata": {},
          "execution_count": 5
        }
      ]
    },
    {
      "cell_type": "markdown",
      "source": [
        "CODE TO REPLACE THE ':' FROM THE 'Entry_time' and 'Exit_time'\n",
        "\n",
        "WE CREATE A NEW FEATURE HERE :\n",
        "\n",
        "1. 'Period' = 'Exit_time/100' - 'Entry_time/100'\n",
        "2.  This is the total priod in minutes for which the stock was invested.\n",
        "\n",
        "\n"
      ],
      "metadata": {
        "id": "qxNW8zFnRAsk"
      }
    },
    {
      "cell_type": "code",
      "source": [
        "stock_dat['Entry_time'] = stock_dat['Entry_time'].astype(str)\n",
        "stock_dat[\"Entry_time\"] = stock_dat[\"Entry_time\"].replace(\":\",\"\", regex=True)\n",
        "stock_dat[\"Exit_time\"] = stock_dat[\"Exit_time\"].replace(\":\",\"\", regex=True)\n",
        "stock_dat[\"Entry_time\"] = stock_dat[\"Entry_time\"].astype(int)\n",
        "stock_dat[\"Exit_time\"] = stock_dat[\"Exit_time\"].astype(int)\n",
        "stock_dat[\"Entry_time\"] = stock_dat[\"Entry_time\"]/100\n",
        "stock_dat[\"Exit_time\"] = stock_dat[\"Exit_time\"]/100\n",
        "stock_dat[\"Period\"] = stock_dat[\"Exit_time\"] - stock_dat[\"Entry_time\"]"
      ],
      "metadata": {
        "id": "qLVI2T1g1vmI"
      },
      "execution_count": 6,
      "outputs": []
    },
    {
      "cell_type": "markdown",
      "source": [
        "CHECK DATAFRAME FOR THE NEW FEATURES"
      ],
      "metadata": {
        "id": "tse89wQqR3lb"
      }
    },
    {
      "cell_type": "code",
      "source": [
        "stock_dat.head()"
      ],
      "metadata": {
        "colab": {
          "base_uri": "https://localhost:8080/",
          "height": 268
        },
        "id": "qvFEuVLH35JB",
        "outputId": "f30a5a44-6487-4211-de5f-7693772d95fe"
      },
      "execution_count": 7,
      "outputs": [
        {
          "output_type": "execute_result",
          "data": {
            "text/plain": [
              "   Unnamed: 0  Entry_date  Entry_time  Type  Entry_price  Exit_price  \\\n",
              "0           0  2011-01-04       930.0     1     11822.00   11611.200   \n",
              "1           1  2011-01-05       940.0     1     11474.00   11382.000   \n",
              "2           2  2011-01-06      1350.0     1     11259.75   11304.789   \n",
              "3           3  2011-01-06      1450.0     1     11253.00   11251.300   \n",
              "4           4  2011-01-07       950.0     1     11150.00   11194.600   \n",
              "\n",
              "   Exit_time  Profit  Reason  Period  \n",
              "0     1520.0       1       1   590.0  \n",
              "1     1520.0       1       1   580.0  \n",
              "2     1415.0       0       0    65.0  \n",
              "3     1520.0       0       1    70.0  \n",
              "4     1145.0       0       0   195.0  "
            ],
            "text/html": [
              "\n",
              "  <div id=\"df-43a98597-b322-4e40-9219-6af2b2c8363f\">\n",
              "    <div class=\"colab-df-container\">\n",
              "      <div>\n",
              "<style scoped>\n",
              "    .dataframe tbody tr th:only-of-type {\n",
              "        vertical-align: middle;\n",
              "    }\n",
              "\n",
              "    .dataframe tbody tr th {\n",
              "        vertical-align: top;\n",
              "    }\n",
              "\n",
              "    .dataframe thead th {\n",
              "        text-align: right;\n",
              "    }\n",
              "</style>\n",
              "<table border=\"1\" class=\"dataframe\">\n",
              "  <thead>\n",
              "    <tr style=\"text-align: right;\">\n",
              "      <th></th>\n",
              "      <th>Unnamed: 0</th>\n",
              "      <th>Entry_date</th>\n",
              "      <th>Entry_time</th>\n",
              "      <th>Type</th>\n",
              "      <th>Entry_price</th>\n",
              "      <th>Exit_price</th>\n",
              "      <th>Exit_time</th>\n",
              "      <th>Profit</th>\n",
              "      <th>Reason</th>\n",
              "      <th>Period</th>\n",
              "    </tr>\n",
              "  </thead>\n",
              "  <tbody>\n",
              "    <tr>\n",
              "      <th>0</th>\n",
              "      <td>0</td>\n",
              "      <td>2011-01-04</td>\n",
              "      <td>930.0</td>\n",
              "      <td>1</td>\n",
              "      <td>11822.00</td>\n",
              "      <td>11611.200</td>\n",
              "      <td>1520.0</td>\n",
              "      <td>1</td>\n",
              "      <td>1</td>\n",
              "      <td>590.0</td>\n",
              "    </tr>\n",
              "    <tr>\n",
              "      <th>1</th>\n",
              "      <td>1</td>\n",
              "      <td>2011-01-05</td>\n",
              "      <td>940.0</td>\n",
              "      <td>1</td>\n",
              "      <td>11474.00</td>\n",
              "      <td>11382.000</td>\n",
              "      <td>1520.0</td>\n",
              "      <td>1</td>\n",
              "      <td>1</td>\n",
              "      <td>580.0</td>\n",
              "    </tr>\n",
              "    <tr>\n",
              "      <th>2</th>\n",
              "      <td>2</td>\n",
              "      <td>2011-01-06</td>\n",
              "      <td>1350.0</td>\n",
              "      <td>1</td>\n",
              "      <td>11259.75</td>\n",
              "      <td>11304.789</td>\n",
              "      <td>1415.0</td>\n",
              "      <td>0</td>\n",
              "      <td>0</td>\n",
              "      <td>65.0</td>\n",
              "    </tr>\n",
              "    <tr>\n",
              "      <th>3</th>\n",
              "      <td>3</td>\n",
              "      <td>2011-01-06</td>\n",
              "      <td>1450.0</td>\n",
              "      <td>1</td>\n",
              "      <td>11253.00</td>\n",
              "      <td>11251.300</td>\n",
              "      <td>1520.0</td>\n",
              "      <td>0</td>\n",
              "      <td>1</td>\n",
              "      <td>70.0</td>\n",
              "    </tr>\n",
              "    <tr>\n",
              "      <th>4</th>\n",
              "      <td>4</td>\n",
              "      <td>2011-01-07</td>\n",
              "      <td>950.0</td>\n",
              "      <td>1</td>\n",
              "      <td>11150.00</td>\n",
              "      <td>11194.600</td>\n",
              "      <td>1145.0</td>\n",
              "      <td>0</td>\n",
              "      <td>0</td>\n",
              "      <td>195.0</td>\n",
              "    </tr>\n",
              "  </tbody>\n",
              "</table>\n",
              "</div>\n",
              "      <button class=\"colab-df-convert\" onclick=\"convertToInteractive('df-43a98597-b322-4e40-9219-6af2b2c8363f')\"\n",
              "              title=\"Convert this dataframe to an interactive table.\"\n",
              "              style=\"display:none;\">\n",
              "        \n",
              "  <svg xmlns=\"http://www.w3.org/2000/svg\" height=\"24px\"viewBox=\"0 0 24 24\"\n",
              "       width=\"24px\">\n",
              "    <path d=\"M0 0h24v24H0V0z\" fill=\"none\"/>\n",
              "    <path d=\"M18.56 5.44l.94 2.06.94-2.06 2.06-.94-2.06-.94-.94-2.06-.94 2.06-2.06.94zm-11 1L8.5 8.5l.94-2.06 2.06-.94-2.06-.94L8.5 2.5l-.94 2.06-2.06.94zm10 10l.94 2.06.94-2.06 2.06-.94-2.06-.94-.94-2.06-.94 2.06-2.06.94z\"/><path d=\"M17.41 7.96l-1.37-1.37c-.4-.4-.92-.59-1.43-.59-.52 0-1.04.2-1.43.59L10.3 9.45l-7.72 7.72c-.78.78-.78 2.05 0 2.83L4 21.41c.39.39.9.59 1.41.59.51 0 1.02-.2 1.41-.59l7.78-7.78 2.81-2.81c.8-.78.8-2.07 0-2.86zM5.41 20L4 18.59l7.72-7.72 1.47 1.35L5.41 20z\"/>\n",
              "  </svg>\n",
              "      </button>\n",
              "      \n",
              "  <style>\n",
              "    .colab-df-container {\n",
              "      display:flex;\n",
              "      flex-wrap:wrap;\n",
              "      gap: 12px;\n",
              "    }\n",
              "\n",
              "    .colab-df-convert {\n",
              "      background-color: #E8F0FE;\n",
              "      border: none;\n",
              "      border-radius: 50%;\n",
              "      cursor: pointer;\n",
              "      display: none;\n",
              "      fill: #1967D2;\n",
              "      height: 32px;\n",
              "      padding: 0 0 0 0;\n",
              "      width: 32px;\n",
              "    }\n",
              "\n",
              "    .colab-df-convert:hover {\n",
              "      background-color: #E2EBFA;\n",
              "      box-shadow: 0px 1px 2px rgba(60, 64, 67, 0.3), 0px 1px 3px 1px rgba(60, 64, 67, 0.15);\n",
              "      fill: #174EA6;\n",
              "    }\n",
              "\n",
              "    [theme=dark] .colab-df-convert {\n",
              "      background-color: #3B4455;\n",
              "      fill: #D2E3FC;\n",
              "    }\n",
              "\n",
              "    [theme=dark] .colab-df-convert:hover {\n",
              "      background-color: #434B5C;\n",
              "      box-shadow: 0px 1px 3px 1px rgba(0, 0, 0, 0.15);\n",
              "      filter: drop-shadow(0px 1px 2px rgba(0, 0, 0, 0.3));\n",
              "      fill: #FFFFFF;\n",
              "    }\n",
              "  </style>\n",
              "\n",
              "      <script>\n",
              "        const buttonEl =\n",
              "          document.querySelector('#df-43a98597-b322-4e40-9219-6af2b2c8363f button.colab-df-convert');\n",
              "        buttonEl.style.display =\n",
              "          google.colab.kernel.accessAllowed ? 'block' : 'none';\n",
              "\n",
              "        async function convertToInteractive(key) {\n",
              "          const element = document.querySelector('#df-43a98597-b322-4e40-9219-6af2b2c8363f');\n",
              "          const dataTable =\n",
              "            await google.colab.kernel.invokeFunction('convertToInteractive',\n",
              "                                                     [key], {});\n",
              "          if (!dataTable) return;\n",
              "\n",
              "          const docLinkHtml = 'Like what you see? Visit the ' +\n",
              "            '<a target=\"_blank\" href=https://colab.research.google.com/notebooks/data_table.ipynb>data table notebook</a>'\n",
              "            + ' to learn more about interactive tables.';\n",
              "          element.innerHTML = '';\n",
              "          dataTable['output_type'] = 'display_data';\n",
              "          await google.colab.output.renderOutput(dataTable, element);\n",
              "          const docLink = document.createElement('div');\n",
              "          docLink.innerHTML = docLinkHtml;\n",
              "          element.appendChild(docLink);\n",
              "        }\n",
              "      </script>\n",
              "    </div>\n",
              "  </div>\n",
              "  "
            ]
          },
          "metadata": {},
          "execution_count": 7
        }
      ]
    },
    {
      "cell_type": "markdown",
      "source": [
        "CODE TO REPLACE THE '-' FROM THE 'Entry_date'\n",
        "\n",
        "\n",
        "\n",
        "\n"
      ],
      "metadata": {
        "id": "6SOSHJyPR_HH"
      }
    },
    {
      "cell_type": "code",
      "source": [
        "stock_dat['Entry_date'] = stock_dat['Entry_date'].astype(str)\n",
        "stock_dat[\"Entry_date\"] = stock_dat[\"Entry_date\"].replace(\"-\",\"\", regex=True)"
      ],
      "metadata": {
        "id": "rARDz_kn5KMO"
      },
      "execution_count": 8,
      "outputs": []
    },
    {
      "cell_type": "code",
      "source": [
        "stock_dat['Entry_date'] = stock_dat['Entry_date'].astype(int)"
      ],
      "metadata": {
        "id": "XVCZq-YQ7TpK"
      },
      "execution_count": 9,
      "outputs": []
    },
    {
      "cell_type": "markdown",
      "source": [
        "CHECK DATAFRAME FOR CHANGES"
      ],
      "metadata": {
        "id": "6IQT-DU-SExg"
      }
    },
    {
      "cell_type": "code",
      "source": [
        "stock_dat.head()"
      ],
      "metadata": {
        "colab": {
          "base_uri": "https://localhost:8080/",
          "height": 268
        },
        "id": "m5NSAUSo7dJl",
        "outputId": "f6f96f3e-0c24-4f25-c141-52e5e30be9f9"
      },
      "execution_count": 10,
      "outputs": [
        {
          "output_type": "execute_result",
          "data": {
            "text/plain": [
              "   Unnamed: 0  Entry_date  Entry_time  Type  Entry_price  Exit_price  \\\n",
              "0           0    20110104       930.0     1     11822.00   11611.200   \n",
              "1           1    20110105       940.0     1     11474.00   11382.000   \n",
              "2           2    20110106      1350.0     1     11259.75   11304.789   \n",
              "3           3    20110106      1450.0     1     11253.00   11251.300   \n",
              "4           4    20110107       950.0     1     11150.00   11194.600   \n",
              "\n",
              "   Exit_time  Profit  Reason  Period  \n",
              "0     1520.0       1       1   590.0  \n",
              "1     1520.0       1       1   580.0  \n",
              "2     1415.0       0       0    65.0  \n",
              "3     1520.0       0       1    70.0  \n",
              "4     1145.0       0       0   195.0  "
            ],
            "text/html": [
              "\n",
              "  <div id=\"df-b5ee5cb5-fd0a-42f9-a01b-affee53d9441\">\n",
              "    <div class=\"colab-df-container\">\n",
              "      <div>\n",
              "<style scoped>\n",
              "    .dataframe tbody tr th:only-of-type {\n",
              "        vertical-align: middle;\n",
              "    }\n",
              "\n",
              "    .dataframe tbody tr th {\n",
              "        vertical-align: top;\n",
              "    }\n",
              "\n",
              "    .dataframe thead th {\n",
              "        text-align: right;\n",
              "    }\n",
              "</style>\n",
              "<table border=\"1\" class=\"dataframe\">\n",
              "  <thead>\n",
              "    <tr style=\"text-align: right;\">\n",
              "      <th></th>\n",
              "      <th>Unnamed: 0</th>\n",
              "      <th>Entry_date</th>\n",
              "      <th>Entry_time</th>\n",
              "      <th>Type</th>\n",
              "      <th>Entry_price</th>\n",
              "      <th>Exit_price</th>\n",
              "      <th>Exit_time</th>\n",
              "      <th>Profit</th>\n",
              "      <th>Reason</th>\n",
              "      <th>Period</th>\n",
              "    </tr>\n",
              "  </thead>\n",
              "  <tbody>\n",
              "    <tr>\n",
              "      <th>0</th>\n",
              "      <td>0</td>\n",
              "      <td>20110104</td>\n",
              "      <td>930.0</td>\n",
              "      <td>1</td>\n",
              "      <td>11822.00</td>\n",
              "      <td>11611.200</td>\n",
              "      <td>1520.0</td>\n",
              "      <td>1</td>\n",
              "      <td>1</td>\n",
              "      <td>590.0</td>\n",
              "    </tr>\n",
              "    <tr>\n",
              "      <th>1</th>\n",
              "      <td>1</td>\n",
              "      <td>20110105</td>\n",
              "      <td>940.0</td>\n",
              "      <td>1</td>\n",
              "      <td>11474.00</td>\n",
              "      <td>11382.000</td>\n",
              "      <td>1520.0</td>\n",
              "      <td>1</td>\n",
              "      <td>1</td>\n",
              "      <td>580.0</td>\n",
              "    </tr>\n",
              "    <tr>\n",
              "      <th>2</th>\n",
              "      <td>2</td>\n",
              "      <td>20110106</td>\n",
              "      <td>1350.0</td>\n",
              "      <td>1</td>\n",
              "      <td>11259.75</td>\n",
              "      <td>11304.789</td>\n",
              "      <td>1415.0</td>\n",
              "      <td>0</td>\n",
              "      <td>0</td>\n",
              "      <td>65.0</td>\n",
              "    </tr>\n",
              "    <tr>\n",
              "      <th>3</th>\n",
              "      <td>3</td>\n",
              "      <td>20110106</td>\n",
              "      <td>1450.0</td>\n",
              "      <td>1</td>\n",
              "      <td>11253.00</td>\n",
              "      <td>11251.300</td>\n",
              "      <td>1520.0</td>\n",
              "      <td>0</td>\n",
              "      <td>1</td>\n",
              "      <td>70.0</td>\n",
              "    </tr>\n",
              "    <tr>\n",
              "      <th>4</th>\n",
              "      <td>4</td>\n",
              "      <td>20110107</td>\n",
              "      <td>950.0</td>\n",
              "      <td>1</td>\n",
              "      <td>11150.00</td>\n",
              "      <td>11194.600</td>\n",
              "      <td>1145.0</td>\n",
              "      <td>0</td>\n",
              "      <td>0</td>\n",
              "      <td>195.0</td>\n",
              "    </tr>\n",
              "  </tbody>\n",
              "</table>\n",
              "</div>\n",
              "      <button class=\"colab-df-convert\" onclick=\"convertToInteractive('df-b5ee5cb5-fd0a-42f9-a01b-affee53d9441')\"\n",
              "              title=\"Convert this dataframe to an interactive table.\"\n",
              "              style=\"display:none;\">\n",
              "        \n",
              "  <svg xmlns=\"http://www.w3.org/2000/svg\" height=\"24px\"viewBox=\"0 0 24 24\"\n",
              "       width=\"24px\">\n",
              "    <path d=\"M0 0h24v24H0V0z\" fill=\"none\"/>\n",
              "    <path d=\"M18.56 5.44l.94 2.06.94-2.06 2.06-.94-2.06-.94-.94-2.06-.94 2.06-2.06.94zm-11 1L8.5 8.5l.94-2.06 2.06-.94-2.06-.94L8.5 2.5l-.94 2.06-2.06.94zm10 10l.94 2.06.94-2.06 2.06-.94-2.06-.94-.94-2.06-.94 2.06-2.06.94z\"/><path d=\"M17.41 7.96l-1.37-1.37c-.4-.4-.92-.59-1.43-.59-.52 0-1.04.2-1.43.59L10.3 9.45l-7.72 7.72c-.78.78-.78 2.05 0 2.83L4 21.41c.39.39.9.59 1.41.59.51 0 1.02-.2 1.41-.59l7.78-7.78 2.81-2.81c.8-.78.8-2.07 0-2.86zM5.41 20L4 18.59l7.72-7.72 1.47 1.35L5.41 20z\"/>\n",
              "  </svg>\n",
              "      </button>\n",
              "      \n",
              "  <style>\n",
              "    .colab-df-container {\n",
              "      display:flex;\n",
              "      flex-wrap:wrap;\n",
              "      gap: 12px;\n",
              "    }\n",
              "\n",
              "    .colab-df-convert {\n",
              "      background-color: #E8F0FE;\n",
              "      border: none;\n",
              "      border-radius: 50%;\n",
              "      cursor: pointer;\n",
              "      display: none;\n",
              "      fill: #1967D2;\n",
              "      height: 32px;\n",
              "      padding: 0 0 0 0;\n",
              "      width: 32px;\n",
              "    }\n",
              "\n",
              "    .colab-df-convert:hover {\n",
              "      background-color: #E2EBFA;\n",
              "      box-shadow: 0px 1px 2px rgba(60, 64, 67, 0.3), 0px 1px 3px 1px rgba(60, 64, 67, 0.15);\n",
              "      fill: #174EA6;\n",
              "    }\n",
              "\n",
              "    [theme=dark] .colab-df-convert {\n",
              "      background-color: #3B4455;\n",
              "      fill: #D2E3FC;\n",
              "    }\n",
              "\n",
              "    [theme=dark] .colab-df-convert:hover {\n",
              "      background-color: #434B5C;\n",
              "      box-shadow: 0px 1px 3px 1px rgba(0, 0, 0, 0.15);\n",
              "      filter: drop-shadow(0px 1px 2px rgba(0, 0, 0, 0.3));\n",
              "      fill: #FFFFFF;\n",
              "    }\n",
              "  </style>\n",
              "\n",
              "      <script>\n",
              "        const buttonEl =\n",
              "          document.querySelector('#df-b5ee5cb5-fd0a-42f9-a01b-affee53d9441 button.colab-df-convert');\n",
              "        buttonEl.style.display =\n",
              "          google.colab.kernel.accessAllowed ? 'block' : 'none';\n",
              "\n",
              "        async function convertToInteractive(key) {\n",
              "          const element = document.querySelector('#df-b5ee5cb5-fd0a-42f9-a01b-affee53d9441');\n",
              "          const dataTable =\n",
              "            await google.colab.kernel.invokeFunction('convertToInteractive',\n",
              "                                                     [key], {});\n",
              "          if (!dataTable) return;\n",
              "\n",
              "          const docLinkHtml = 'Like what you see? Visit the ' +\n",
              "            '<a target=\"_blank\" href=https://colab.research.google.com/notebooks/data_table.ipynb>data table notebook</a>'\n",
              "            + ' to learn more about interactive tables.';\n",
              "          element.innerHTML = '';\n",
              "          dataTable['output_type'] = 'display_data';\n",
              "          await google.colab.output.renderOutput(dataTable, element);\n",
              "          const docLink = document.createElement('div');\n",
              "          docLink.innerHTML = docLinkHtml;\n",
              "          element.appendChild(docLink);\n",
              "        }\n",
              "      </script>\n",
              "    </div>\n",
              "  </div>\n",
              "  "
            ]
          },
          "metadata": {},
          "execution_count": 10
        }
      ]
    },
    {
      "cell_type": "markdown",
      "source": [
        "WE CREATE A NEW FEATURE HERE :\n",
        "\n",
        "1. 'Interday' = 'Entry_date[sample]' - 'Entry_date[sample-1]'\n",
        "2.  If the difference = 0 then 'Interday' = 0 else 'Interday' = 1\n",
        "3.  The values for the first and last day is assumed to be 0\n",
        "4.  This is to differentiate Interday trades from Intraday trades"
      ],
      "metadata": {
        "id": "v-LLYCkASLIB"
      }
    },
    {
      "cell_type": "code",
      "source": [
        "stock_dat['Interday'] = stock_dat['Entry_date']\n",
        "for i in range(0, 3349):\n",
        "    if i == 0 or i == 3348:\n",
        "      stock_dat['Interday'][i] = 0\n",
        "    else:\n",
        "      stock_dat['Interday'][i] = stock_dat['Entry_date'][i] - stock_dat['Entry_date'][i-1]\n",
        "      if stock_dat['Interday'][i] > 0:\n",
        "         stock_dat['Interday'][i] = 1\n",
        "      \n",
        "        "
      ],
      "metadata": {
        "colab": {
          "base_uri": "https://localhost:8080/"
        },
        "id": "vsuERc2aBr_g",
        "outputId": "3fcd58c7-d16c-4ba5-ce8a-12fb70de7a44"
      },
      "execution_count": 11,
      "outputs": [
        {
          "output_type": "stream",
          "name": "stderr",
          "text": [
            "<ipython-input-11-0caa3150bf5e>:4: SettingWithCopyWarning: \n",
            "A value is trying to be set on a copy of a slice from a DataFrame\n",
            "\n",
            "See the caveats in the documentation: https://pandas.pydata.org/pandas-docs/stable/user_guide/indexing.html#returning-a-view-versus-a-copy\n",
            "  stock_dat['Interday'][i] = 0\n",
            "<ipython-input-11-0caa3150bf5e>:6: SettingWithCopyWarning: \n",
            "A value is trying to be set on a copy of a slice from a DataFrame\n",
            "\n",
            "See the caveats in the documentation: https://pandas.pydata.org/pandas-docs/stable/user_guide/indexing.html#returning-a-view-versus-a-copy\n",
            "  stock_dat['Interday'][i] = stock_dat['Entry_date'][i] - stock_dat['Entry_date'][i-1]\n",
            "<ipython-input-11-0caa3150bf5e>:8: SettingWithCopyWarning: \n",
            "A value is trying to be set on a copy of a slice from a DataFrame\n",
            "\n",
            "See the caveats in the documentation: https://pandas.pydata.org/pandas-docs/stable/user_guide/indexing.html#returning-a-view-versus-a-copy\n",
            "  stock_dat['Interday'][i] = 1\n"
          ]
        }
      ]
    },
    {
      "cell_type": "markdown",
      "source": [
        "CHECK FOR THE CHANGES AND NEW FEATURES"
      ],
      "metadata": {
        "id": "ujJLzVaFS4mu"
      }
    },
    {
      "cell_type": "code",
      "source": [
        "stock_dat.head()"
      ],
      "metadata": {
        "colab": {
          "base_uri": "https://localhost:8080/",
          "height": 288
        },
        "id": "xST2eKIrCAwY",
        "outputId": "e1c76c44-5b02-4f03-f568-5fcf2fc77909"
      },
      "execution_count": 12,
      "outputs": [
        {
          "output_type": "execute_result",
          "data": {
            "text/plain": [
              "   Unnamed: 0  Entry_date  Entry_time  Type  Entry_price  Exit_price  \\\n",
              "0           0    20110104       930.0     1     11822.00   11611.200   \n",
              "1           1    20110105       940.0     1     11474.00   11382.000   \n",
              "2           2    20110106      1350.0     1     11259.75   11304.789   \n",
              "3           3    20110106      1450.0     1     11253.00   11251.300   \n",
              "4           4    20110107       950.0     1     11150.00   11194.600   \n",
              "\n",
              "   Exit_time  Profit  Reason  Period  Interday  \n",
              "0     1520.0       1       1   590.0         0  \n",
              "1     1520.0       1       1   580.0         1  \n",
              "2     1415.0       0       0    65.0         1  \n",
              "3     1520.0       0       1    70.0         0  \n",
              "4     1145.0       0       0   195.0         1  "
            ],
            "text/html": [
              "\n",
              "  <div id=\"df-17fc59e1-dfbd-4950-9287-742acbf5eaad\">\n",
              "    <div class=\"colab-df-container\">\n",
              "      <div>\n",
              "<style scoped>\n",
              "    .dataframe tbody tr th:only-of-type {\n",
              "        vertical-align: middle;\n",
              "    }\n",
              "\n",
              "    .dataframe tbody tr th {\n",
              "        vertical-align: top;\n",
              "    }\n",
              "\n",
              "    .dataframe thead th {\n",
              "        text-align: right;\n",
              "    }\n",
              "</style>\n",
              "<table border=\"1\" class=\"dataframe\">\n",
              "  <thead>\n",
              "    <tr style=\"text-align: right;\">\n",
              "      <th></th>\n",
              "      <th>Unnamed: 0</th>\n",
              "      <th>Entry_date</th>\n",
              "      <th>Entry_time</th>\n",
              "      <th>Type</th>\n",
              "      <th>Entry_price</th>\n",
              "      <th>Exit_price</th>\n",
              "      <th>Exit_time</th>\n",
              "      <th>Profit</th>\n",
              "      <th>Reason</th>\n",
              "      <th>Period</th>\n",
              "      <th>Interday</th>\n",
              "    </tr>\n",
              "  </thead>\n",
              "  <tbody>\n",
              "    <tr>\n",
              "      <th>0</th>\n",
              "      <td>0</td>\n",
              "      <td>20110104</td>\n",
              "      <td>930.0</td>\n",
              "      <td>1</td>\n",
              "      <td>11822.00</td>\n",
              "      <td>11611.200</td>\n",
              "      <td>1520.0</td>\n",
              "      <td>1</td>\n",
              "      <td>1</td>\n",
              "      <td>590.0</td>\n",
              "      <td>0</td>\n",
              "    </tr>\n",
              "    <tr>\n",
              "      <th>1</th>\n",
              "      <td>1</td>\n",
              "      <td>20110105</td>\n",
              "      <td>940.0</td>\n",
              "      <td>1</td>\n",
              "      <td>11474.00</td>\n",
              "      <td>11382.000</td>\n",
              "      <td>1520.0</td>\n",
              "      <td>1</td>\n",
              "      <td>1</td>\n",
              "      <td>580.0</td>\n",
              "      <td>1</td>\n",
              "    </tr>\n",
              "    <tr>\n",
              "      <th>2</th>\n",
              "      <td>2</td>\n",
              "      <td>20110106</td>\n",
              "      <td>1350.0</td>\n",
              "      <td>1</td>\n",
              "      <td>11259.75</td>\n",
              "      <td>11304.789</td>\n",
              "      <td>1415.0</td>\n",
              "      <td>0</td>\n",
              "      <td>0</td>\n",
              "      <td>65.0</td>\n",
              "      <td>1</td>\n",
              "    </tr>\n",
              "    <tr>\n",
              "      <th>3</th>\n",
              "      <td>3</td>\n",
              "      <td>20110106</td>\n",
              "      <td>1450.0</td>\n",
              "      <td>1</td>\n",
              "      <td>11253.00</td>\n",
              "      <td>11251.300</td>\n",
              "      <td>1520.0</td>\n",
              "      <td>0</td>\n",
              "      <td>1</td>\n",
              "      <td>70.0</td>\n",
              "      <td>0</td>\n",
              "    </tr>\n",
              "    <tr>\n",
              "      <th>4</th>\n",
              "      <td>4</td>\n",
              "      <td>20110107</td>\n",
              "      <td>950.0</td>\n",
              "      <td>1</td>\n",
              "      <td>11150.00</td>\n",
              "      <td>11194.600</td>\n",
              "      <td>1145.0</td>\n",
              "      <td>0</td>\n",
              "      <td>0</td>\n",
              "      <td>195.0</td>\n",
              "      <td>1</td>\n",
              "    </tr>\n",
              "  </tbody>\n",
              "</table>\n",
              "</div>\n",
              "      <button class=\"colab-df-convert\" onclick=\"convertToInteractive('df-17fc59e1-dfbd-4950-9287-742acbf5eaad')\"\n",
              "              title=\"Convert this dataframe to an interactive table.\"\n",
              "              style=\"display:none;\">\n",
              "        \n",
              "  <svg xmlns=\"http://www.w3.org/2000/svg\" height=\"24px\"viewBox=\"0 0 24 24\"\n",
              "       width=\"24px\">\n",
              "    <path d=\"M0 0h24v24H0V0z\" fill=\"none\"/>\n",
              "    <path d=\"M18.56 5.44l.94 2.06.94-2.06 2.06-.94-2.06-.94-.94-2.06-.94 2.06-2.06.94zm-11 1L8.5 8.5l.94-2.06 2.06-.94-2.06-.94L8.5 2.5l-.94 2.06-2.06.94zm10 10l.94 2.06.94-2.06 2.06-.94-2.06-.94-.94-2.06-.94 2.06-2.06.94z\"/><path d=\"M17.41 7.96l-1.37-1.37c-.4-.4-.92-.59-1.43-.59-.52 0-1.04.2-1.43.59L10.3 9.45l-7.72 7.72c-.78.78-.78 2.05 0 2.83L4 21.41c.39.39.9.59 1.41.59.51 0 1.02-.2 1.41-.59l7.78-7.78 2.81-2.81c.8-.78.8-2.07 0-2.86zM5.41 20L4 18.59l7.72-7.72 1.47 1.35L5.41 20z\"/>\n",
              "  </svg>\n",
              "      </button>\n",
              "      \n",
              "  <style>\n",
              "    .colab-df-container {\n",
              "      display:flex;\n",
              "      flex-wrap:wrap;\n",
              "      gap: 12px;\n",
              "    }\n",
              "\n",
              "    .colab-df-convert {\n",
              "      background-color: #E8F0FE;\n",
              "      border: none;\n",
              "      border-radius: 50%;\n",
              "      cursor: pointer;\n",
              "      display: none;\n",
              "      fill: #1967D2;\n",
              "      height: 32px;\n",
              "      padding: 0 0 0 0;\n",
              "      width: 32px;\n",
              "    }\n",
              "\n",
              "    .colab-df-convert:hover {\n",
              "      background-color: #E2EBFA;\n",
              "      box-shadow: 0px 1px 2px rgba(60, 64, 67, 0.3), 0px 1px 3px 1px rgba(60, 64, 67, 0.15);\n",
              "      fill: #174EA6;\n",
              "    }\n",
              "\n",
              "    [theme=dark] .colab-df-convert {\n",
              "      background-color: #3B4455;\n",
              "      fill: #D2E3FC;\n",
              "    }\n",
              "\n",
              "    [theme=dark] .colab-df-convert:hover {\n",
              "      background-color: #434B5C;\n",
              "      box-shadow: 0px 1px 3px 1px rgba(0, 0, 0, 0.15);\n",
              "      filter: drop-shadow(0px 1px 2px rgba(0, 0, 0, 0.3));\n",
              "      fill: #FFFFFF;\n",
              "    }\n",
              "  </style>\n",
              "\n",
              "      <script>\n",
              "        const buttonEl =\n",
              "          document.querySelector('#df-17fc59e1-dfbd-4950-9287-742acbf5eaad button.colab-df-convert');\n",
              "        buttonEl.style.display =\n",
              "          google.colab.kernel.accessAllowed ? 'block' : 'none';\n",
              "\n",
              "        async function convertToInteractive(key) {\n",
              "          const element = document.querySelector('#df-17fc59e1-dfbd-4950-9287-742acbf5eaad');\n",
              "          const dataTable =\n",
              "            await google.colab.kernel.invokeFunction('convertToInteractive',\n",
              "                                                     [key], {});\n",
              "          if (!dataTable) return;\n",
              "\n",
              "          const docLinkHtml = 'Like what you see? Visit the ' +\n",
              "            '<a target=\"_blank\" href=https://colab.research.google.com/notebooks/data_table.ipynb>data table notebook</a>'\n",
              "            + ' to learn more about interactive tables.';\n",
              "          element.innerHTML = '';\n",
              "          dataTable['output_type'] = 'display_data';\n",
              "          await google.colab.output.renderOutput(dataTable, element);\n",
              "          const docLink = document.createElement('div');\n",
              "          docLink.innerHTML = docLinkHtml;\n",
              "          element.appendChild(docLink);\n",
              "        }\n",
              "      </script>\n",
              "    </div>\n",
              "  </div>\n",
              "  "
            ]
          },
          "metadata": {},
          "execution_count": 12
        }
      ]
    },
    {
      "cell_type": "markdown",
      "source": [
        "NOW WE DROP THE VARIOUS FEATURES THAT EITHER WE DON'T NEED LIKE THE FIRST INDEX COLUMN 'Unnamed: 0' AND THE COLUMNS THAT WE HAVE USED TO CREATE NEW FEATURES LIKE 'Period' and 'Interday'"
      ],
      "metadata": {
        "id": "I8yU1QlrTG3q"
      }
    },
    {
      "cell_type": "code",
      "source": [
        "stock_dat_final = pd.DataFrame()\n",
        "stock_dat_final = stock_dat.drop(columns = ['Unnamed: 0', 'Entry_date', 'Entry_time', 'Exit_time'], axis = 1)"
      ],
      "metadata": {
        "id": "WQKS5dXiLH8C"
      },
      "execution_count": 13,
      "outputs": []
    },
    {
      "cell_type": "markdown",
      "source": [
        "VIEW THE NEW DATA SET"
      ],
      "metadata": {
        "id": "iDZyfYyXTh3J"
      }
    },
    {
      "cell_type": "code",
      "source": [
        "stock_dat_final.describe()"
      ],
      "metadata": {
        "colab": {
          "base_uri": "https://localhost:8080/",
          "height": 300
        },
        "id": "nkNxjQ9xOSVq",
        "outputId": "11f8883b-668f-4309-a047-757481065853"
      },
      "execution_count": 14,
      "outputs": [
        {
          "output_type": "execute_result",
          "data": {
            "text/plain": [
              "              Type   Entry_price    Exit_price       Profit       Reason  \\\n",
              "count  3349.000000   3349.000000   3349.000000  3349.000000  3349.000000   \n",
              "mean      0.490594  21547.890251  21550.117552     0.375933     0.482234   \n",
              "std       0.499986   9686.451215   9688.114089     0.484435     0.510403   \n",
              "min       0.000000   7917.900000   7937.300000     0.000000     0.000000   \n",
              "25%       0.000000  11964.000000  11930.000000     0.000000     0.000000   \n",
              "50%       0.000000  19422.000000  19364.580600     0.000000     0.000000   \n",
              "75%       1.000000  29156.000000  29148.000000     1.000000     1.000000   \n",
              "max       1.000000  44166.450000  44172.400000     1.000000     2.000000   \n",
              "\n",
              "            Period     Interday  \n",
              "count  3349.000000  3349.000000  \n",
              "mean    236.270529     0.648850  \n",
              "std     213.558362     0.477401  \n",
              "min       5.000000     0.000000  \n",
              "25%      65.000000     0.000000  \n",
              "50%     165.000000     1.000000  \n",
              "75%     415.000000     1.000000  \n",
              "max     605.000000     1.000000  "
            ],
            "text/html": [
              "\n",
              "  <div id=\"df-dd93a07c-0b4f-4807-9052-f900fd94c87b\">\n",
              "    <div class=\"colab-df-container\">\n",
              "      <div>\n",
              "<style scoped>\n",
              "    .dataframe tbody tr th:only-of-type {\n",
              "        vertical-align: middle;\n",
              "    }\n",
              "\n",
              "    .dataframe tbody tr th {\n",
              "        vertical-align: top;\n",
              "    }\n",
              "\n",
              "    .dataframe thead th {\n",
              "        text-align: right;\n",
              "    }\n",
              "</style>\n",
              "<table border=\"1\" class=\"dataframe\">\n",
              "  <thead>\n",
              "    <tr style=\"text-align: right;\">\n",
              "      <th></th>\n",
              "      <th>Type</th>\n",
              "      <th>Entry_price</th>\n",
              "      <th>Exit_price</th>\n",
              "      <th>Profit</th>\n",
              "      <th>Reason</th>\n",
              "      <th>Period</th>\n",
              "      <th>Interday</th>\n",
              "    </tr>\n",
              "  </thead>\n",
              "  <tbody>\n",
              "    <tr>\n",
              "      <th>count</th>\n",
              "      <td>3349.000000</td>\n",
              "      <td>3349.000000</td>\n",
              "      <td>3349.000000</td>\n",
              "      <td>3349.000000</td>\n",
              "      <td>3349.000000</td>\n",
              "      <td>3349.000000</td>\n",
              "      <td>3349.000000</td>\n",
              "    </tr>\n",
              "    <tr>\n",
              "      <th>mean</th>\n",
              "      <td>0.490594</td>\n",
              "      <td>21547.890251</td>\n",
              "      <td>21550.117552</td>\n",
              "      <td>0.375933</td>\n",
              "      <td>0.482234</td>\n",
              "      <td>236.270529</td>\n",
              "      <td>0.648850</td>\n",
              "    </tr>\n",
              "    <tr>\n",
              "      <th>std</th>\n",
              "      <td>0.499986</td>\n",
              "      <td>9686.451215</td>\n",
              "      <td>9688.114089</td>\n",
              "      <td>0.484435</td>\n",
              "      <td>0.510403</td>\n",
              "      <td>213.558362</td>\n",
              "      <td>0.477401</td>\n",
              "    </tr>\n",
              "    <tr>\n",
              "      <th>min</th>\n",
              "      <td>0.000000</td>\n",
              "      <td>7917.900000</td>\n",
              "      <td>7937.300000</td>\n",
              "      <td>0.000000</td>\n",
              "      <td>0.000000</td>\n",
              "      <td>5.000000</td>\n",
              "      <td>0.000000</td>\n",
              "    </tr>\n",
              "    <tr>\n",
              "      <th>25%</th>\n",
              "      <td>0.000000</td>\n",
              "      <td>11964.000000</td>\n",
              "      <td>11930.000000</td>\n",
              "      <td>0.000000</td>\n",
              "      <td>0.000000</td>\n",
              "      <td>65.000000</td>\n",
              "      <td>0.000000</td>\n",
              "    </tr>\n",
              "    <tr>\n",
              "      <th>50%</th>\n",
              "      <td>0.000000</td>\n",
              "      <td>19422.000000</td>\n",
              "      <td>19364.580600</td>\n",
              "      <td>0.000000</td>\n",
              "      <td>0.000000</td>\n",
              "      <td>165.000000</td>\n",
              "      <td>1.000000</td>\n",
              "    </tr>\n",
              "    <tr>\n",
              "      <th>75%</th>\n",
              "      <td>1.000000</td>\n",
              "      <td>29156.000000</td>\n",
              "      <td>29148.000000</td>\n",
              "      <td>1.000000</td>\n",
              "      <td>1.000000</td>\n",
              "      <td>415.000000</td>\n",
              "      <td>1.000000</td>\n",
              "    </tr>\n",
              "    <tr>\n",
              "      <th>max</th>\n",
              "      <td>1.000000</td>\n",
              "      <td>44166.450000</td>\n",
              "      <td>44172.400000</td>\n",
              "      <td>1.000000</td>\n",
              "      <td>2.000000</td>\n",
              "      <td>605.000000</td>\n",
              "      <td>1.000000</td>\n",
              "    </tr>\n",
              "  </tbody>\n",
              "</table>\n",
              "</div>\n",
              "      <button class=\"colab-df-convert\" onclick=\"convertToInteractive('df-dd93a07c-0b4f-4807-9052-f900fd94c87b')\"\n",
              "              title=\"Convert this dataframe to an interactive table.\"\n",
              "              style=\"display:none;\">\n",
              "        \n",
              "  <svg xmlns=\"http://www.w3.org/2000/svg\" height=\"24px\"viewBox=\"0 0 24 24\"\n",
              "       width=\"24px\">\n",
              "    <path d=\"M0 0h24v24H0V0z\" fill=\"none\"/>\n",
              "    <path d=\"M18.56 5.44l.94 2.06.94-2.06 2.06-.94-2.06-.94-.94-2.06-.94 2.06-2.06.94zm-11 1L8.5 8.5l.94-2.06 2.06-.94-2.06-.94L8.5 2.5l-.94 2.06-2.06.94zm10 10l.94 2.06.94-2.06 2.06-.94-2.06-.94-.94-2.06-.94 2.06-2.06.94z\"/><path d=\"M17.41 7.96l-1.37-1.37c-.4-.4-.92-.59-1.43-.59-.52 0-1.04.2-1.43.59L10.3 9.45l-7.72 7.72c-.78.78-.78 2.05 0 2.83L4 21.41c.39.39.9.59 1.41.59.51 0 1.02-.2 1.41-.59l7.78-7.78 2.81-2.81c.8-.78.8-2.07 0-2.86zM5.41 20L4 18.59l7.72-7.72 1.47 1.35L5.41 20z\"/>\n",
              "  </svg>\n",
              "      </button>\n",
              "      \n",
              "  <style>\n",
              "    .colab-df-container {\n",
              "      display:flex;\n",
              "      flex-wrap:wrap;\n",
              "      gap: 12px;\n",
              "    }\n",
              "\n",
              "    .colab-df-convert {\n",
              "      background-color: #E8F0FE;\n",
              "      border: none;\n",
              "      border-radius: 50%;\n",
              "      cursor: pointer;\n",
              "      display: none;\n",
              "      fill: #1967D2;\n",
              "      height: 32px;\n",
              "      padding: 0 0 0 0;\n",
              "      width: 32px;\n",
              "    }\n",
              "\n",
              "    .colab-df-convert:hover {\n",
              "      background-color: #E2EBFA;\n",
              "      box-shadow: 0px 1px 2px rgba(60, 64, 67, 0.3), 0px 1px 3px 1px rgba(60, 64, 67, 0.15);\n",
              "      fill: #174EA6;\n",
              "    }\n",
              "\n",
              "    [theme=dark] .colab-df-convert {\n",
              "      background-color: #3B4455;\n",
              "      fill: #D2E3FC;\n",
              "    }\n",
              "\n",
              "    [theme=dark] .colab-df-convert:hover {\n",
              "      background-color: #434B5C;\n",
              "      box-shadow: 0px 1px 3px 1px rgba(0, 0, 0, 0.15);\n",
              "      filter: drop-shadow(0px 1px 2px rgba(0, 0, 0, 0.3));\n",
              "      fill: #FFFFFF;\n",
              "    }\n",
              "  </style>\n",
              "\n",
              "      <script>\n",
              "        const buttonEl =\n",
              "          document.querySelector('#df-dd93a07c-0b4f-4807-9052-f900fd94c87b button.colab-df-convert');\n",
              "        buttonEl.style.display =\n",
              "          google.colab.kernel.accessAllowed ? 'block' : 'none';\n",
              "\n",
              "        async function convertToInteractive(key) {\n",
              "          const element = document.querySelector('#df-dd93a07c-0b4f-4807-9052-f900fd94c87b');\n",
              "          const dataTable =\n",
              "            await google.colab.kernel.invokeFunction('convertToInteractive',\n",
              "                                                     [key], {});\n",
              "          if (!dataTable) return;\n",
              "\n",
              "          const docLinkHtml = 'Like what you see? Visit the ' +\n",
              "            '<a target=\"_blank\" href=https://colab.research.google.com/notebooks/data_table.ipynb>data table notebook</a>'\n",
              "            + ' to learn more about interactive tables.';\n",
              "          element.innerHTML = '';\n",
              "          dataTable['output_type'] = 'display_data';\n",
              "          await google.colab.output.renderOutput(dataTable, element);\n",
              "          const docLink = document.createElement('div');\n",
              "          docLink.innerHTML = docLinkHtml;\n",
              "          element.appendChild(docLink);\n",
              "        }\n",
              "      </script>\n",
              "    </div>\n",
              "  </div>\n",
              "  "
            ]
          },
          "metadata": {},
          "execution_count": 14
        }
      ]
    },
    {
      "cell_type": "markdown",
      "source": [
        "NOW WE NORMALISE THE DATA BY DIVIDNG WITH THE MAX DATA VALUE IN THE COLUMN THIS ALLOWS FOR US TO BRING ALL FEATURES IN THE INCLUSIVE RANGE OF [0,1]. THIS ALLOWS THE GRADIENT DESCENT IN THE REGRESSION MODEL TO WORK."
      ],
      "metadata": {
        "id": "rRl0AuEEToD2"
      }
    },
    {
      "cell_type": "code",
      "source": [
        "stock_dat_final['Entry_price'] = stock_dat_final['Entry_price']/44166\n",
        "stock_dat_final['Period'] = stock_dat_final['Period']/605\n",
        "stock_dat_final['Exit_price'] = stock_dat_final['Exit_price']/44172"
      ],
      "metadata": {
        "id": "I63Xi0tER5a6"
      },
      "execution_count": 15,
      "outputs": []
    },
    {
      "cell_type": "markdown",
      "source": [
        "VIEW THE DATA TO CHECK CHANGES"
      ],
      "metadata": {
        "id": "Y1GZ-xzRT-MD"
      }
    },
    {
      "cell_type": "code",
      "source": [
        "stock_dat_final.head()"
      ],
      "metadata": {
        "colab": {
          "base_uri": "https://localhost:8080/",
          "height": 206
        },
        "id": "ZekB7voiVZhW",
        "outputId": "d367afba-7419-4fb7-90f9-d57a18d75fd8"
      },
      "execution_count": 16,
      "outputs": [
        {
          "output_type": "execute_result",
          "data": {
            "text/plain": [
              "   Type  Entry_price  Exit_price  Profit  Reason    Period  Interday\n",
              "0     1     0.267672    0.262863       1       1  0.975207         0\n",
              "1     1     0.259793    0.257675       1       1  0.958678         1\n",
              "2     1     0.254942    0.255927       0       0  0.107438         1\n",
              "3     1     0.254789    0.254716       0       1  0.115702         0\n",
              "4     1     0.252457    0.253432       0       0  0.322314         1"
            ],
            "text/html": [
              "\n",
              "  <div id=\"df-44a9a9a8-e831-46bc-b954-99f07cb4872e\">\n",
              "    <div class=\"colab-df-container\">\n",
              "      <div>\n",
              "<style scoped>\n",
              "    .dataframe tbody tr th:only-of-type {\n",
              "        vertical-align: middle;\n",
              "    }\n",
              "\n",
              "    .dataframe tbody tr th {\n",
              "        vertical-align: top;\n",
              "    }\n",
              "\n",
              "    .dataframe thead th {\n",
              "        text-align: right;\n",
              "    }\n",
              "</style>\n",
              "<table border=\"1\" class=\"dataframe\">\n",
              "  <thead>\n",
              "    <tr style=\"text-align: right;\">\n",
              "      <th></th>\n",
              "      <th>Type</th>\n",
              "      <th>Entry_price</th>\n",
              "      <th>Exit_price</th>\n",
              "      <th>Profit</th>\n",
              "      <th>Reason</th>\n",
              "      <th>Period</th>\n",
              "      <th>Interday</th>\n",
              "    </tr>\n",
              "  </thead>\n",
              "  <tbody>\n",
              "    <tr>\n",
              "      <th>0</th>\n",
              "      <td>1</td>\n",
              "      <td>0.267672</td>\n",
              "      <td>0.262863</td>\n",
              "      <td>1</td>\n",
              "      <td>1</td>\n",
              "      <td>0.975207</td>\n",
              "      <td>0</td>\n",
              "    </tr>\n",
              "    <tr>\n",
              "      <th>1</th>\n",
              "      <td>1</td>\n",
              "      <td>0.259793</td>\n",
              "      <td>0.257675</td>\n",
              "      <td>1</td>\n",
              "      <td>1</td>\n",
              "      <td>0.958678</td>\n",
              "      <td>1</td>\n",
              "    </tr>\n",
              "    <tr>\n",
              "      <th>2</th>\n",
              "      <td>1</td>\n",
              "      <td>0.254942</td>\n",
              "      <td>0.255927</td>\n",
              "      <td>0</td>\n",
              "      <td>0</td>\n",
              "      <td>0.107438</td>\n",
              "      <td>1</td>\n",
              "    </tr>\n",
              "    <tr>\n",
              "      <th>3</th>\n",
              "      <td>1</td>\n",
              "      <td>0.254789</td>\n",
              "      <td>0.254716</td>\n",
              "      <td>0</td>\n",
              "      <td>1</td>\n",
              "      <td>0.115702</td>\n",
              "      <td>0</td>\n",
              "    </tr>\n",
              "    <tr>\n",
              "      <th>4</th>\n",
              "      <td>1</td>\n",
              "      <td>0.252457</td>\n",
              "      <td>0.253432</td>\n",
              "      <td>0</td>\n",
              "      <td>0</td>\n",
              "      <td>0.322314</td>\n",
              "      <td>1</td>\n",
              "    </tr>\n",
              "  </tbody>\n",
              "</table>\n",
              "</div>\n",
              "      <button class=\"colab-df-convert\" onclick=\"convertToInteractive('df-44a9a9a8-e831-46bc-b954-99f07cb4872e')\"\n",
              "              title=\"Convert this dataframe to an interactive table.\"\n",
              "              style=\"display:none;\">\n",
              "        \n",
              "  <svg xmlns=\"http://www.w3.org/2000/svg\" height=\"24px\"viewBox=\"0 0 24 24\"\n",
              "       width=\"24px\">\n",
              "    <path d=\"M0 0h24v24H0V0z\" fill=\"none\"/>\n",
              "    <path d=\"M18.56 5.44l.94 2.06.94-2.06 2.06-.94-2.06-.94-.94-2.06-.94 2.06-2.06.94zm-11 1L8.5 8.5l.94-2.06 2.06-.94-2.06-.94L8.5 2.5l-.94 2.06-2.06.94zm10 10l.94 2.06.94-2.06 2.06-.94-2.06-.94-.94-2.06-.94 2.06-2.06.94z\"/><path d=\"M17.41 7.96l-1.37-1.37c-.4-.4-.92-.59-1.43-.59-.52 0-1.04.2-1.43.59L10.3 9.45l-7.72 7.72c-.78.78-.78 2.05 0 2.83L4 21.41c.39.39.9.59 1.41.59.51 0 1.02-.2 1.41-.59l7.78-7.78 2.81-2.81c.8-.78.8-2.07 0-2.86zM5.41 20L4 18.59l7.72-7.72 1.47 1.35L5.41 20z\"/>\n",
              "  </svg>\n",
              "      </button>\n",
              "      \n",
              "  <style>\n",
              "    .colab-df-container {\n",
              "      display:flex;\n",
              "      flex-wrap:wrap;\n",
              "      gap: 12px;\n",
              "    }\n",
              "\n",
              "    .colab-df-convert {\n",
              "      background-color: #E8F0FE;\n",
              "      border: none;\n",
              "      border-radius: 50%;\n",
              "      cursor: pointer;\n",
              "      display: none;\n",
              "      fill: #1967D2;\n",
              "      height: 32px;\n",
              "      padding: 0 0 0 0;\n",
              "      width: 32px;\n",
              "    }\n",
              "\n",
              "    .colab-df-convert:hover {\n",
              "      background-color: #E2EBFA;\n",
              "      box-shadow: 0px 1px 2px rgba(60, 64, 67, 0.3), 0px 1px 3px 1px rgba(60, 64, 67, 0.15);\n",
              "      fill: #174EA6;\n",
              "    }\n",
              "\n",
              "    [theme=dark] .colab-df-convert {\n",
              "      background-color: #3B4455;\n",
              "      fill: #D2E3FC;\n",
              "    }\n",
              "\n",
              "    [theme=dark] .colab-df-convert:hover {\n",
              "      background-color: #434B5C;\n",
              "      box-shadow: 0px 1px 3px 1px rgba(0, 0, 0, 0.15);\n",
              "      filter: drop-shadow(0px 1px 2px rgba(0, 0, 0, 0.3));\n",
              "      fill: #FFFFFF;\n",
              "    }\n",
              "  </style>\n",
              "\n",
              "      <script>\n",
              "        const buttonEl =\n",
              "          document.querySelector('#df-44a9a9a8-e831-46bc-b954-99f07cb4872e button.colab-df-convert');\n",
              "        buttonEl.style.display =\n",
              "          google.colab.kernel.accessAllowed ? 'block' : 'none';\n",
              "\n",
              "        async function convertToInteractive(key) {\n",
              "          const element = document.querySelector('#df-44a9a9a8-e831-46bc-b954-99f07cb4872e');\n",
              "          const dataTable =\n",
              "            await google.colab.kernel.invokeFunction('convertToInteractive',\n",
              "                                                     [key], {});\n",
              "          if (!dataTable) return;\n",
              "\n",
              "          const docLinkHtml = 'Like what you see? Visit the ' +\n",
              "            '<a target=\"_blank\" href=https://colab.research.google.com/notebooks/data_table.ipynb>data table notebook</a>'\n",
              "            + ' to learn more about interactive tables.';\n",
              "          element.innerHTML = '';\n",
              "          dataTable['output_type'] = 'display_data';\n",
              "          await google.colab.output.renderOutput(dataTable, element);\n",
              "          const docLink = document.createElement('div');\n",
              "          docLink.innerHTML = docLinkHtml;\n",
              "          element.appendChild(docLink);\n",
              "        }\n",
              "      </script>\n",
              "    </div>\n",
              "  </div>\n",
              "  "
            ]
          },
          "metadata": {},
          "execution_count": 16
        }
      ]
    },
    {
      "cell_type": "markdown",
      "source": [
        "NOW WE SEPARTE THE LABELS FORM THE FEATURES"
      ],
      "metadata": {
        "id": "nq9kalJoUDvs"
      }
    },
    {
      "cell_type": "code",
      "source": [
        "X = stock_dat_final.drop('Profit', axis = 1)\n",
        "Y = stock_dat_final['Profit']"
      ],
      "metadata": {
        "id": "exXQaD0f6plY"
      },
      "execution_count": 17,
      "outputs": []
    },
    {
      "cell_type": "markdown",
      "source": [
        "FINAL CHECK FOR ANY NULL VALUES"
      ],
      "metadata": {
        "id": "XOaWwqsDUIp-"
      }
    },
    {
      "cell_type": "code",
      "execution_count": 18,
      "metadata": {
        "colab": {
          "base_uri": "https://localhost:8080/"
        },
        "id": "zbUALNqCVLhC",
        "outputId": "433fb7e0-9d04-4d53-f06b-0ff5e9e600ee"
      },
      "outputs": [
        {
          "output_type": "stream",
          "name": "stdout",
          "text": [
            "Type           0\n",
            "Entry_price    0\n",
            "Exit_price     0\n",
            "Profit         0\n",
            "Reason         0\n",
            "Period         0\n",
            "Interday       0\n",
            "dtype: int64\n"
          ]
        }
      ],
      "source": [
        "print(stock_dat_final.isnull().sum())"
      ]
    },
    {
      "cell_type": "code",
      "source": [],
      "metadata": {
        "id": "6-ETRy-IXY0v"
      },
      "execution_count": 18,
      "outputs": []
    },
    {
      "cell_type": "markdown",
      "source": [
        "SPLIT THE TRAIN AND TEST DATA IN THE RATIO 90 : 10"
      ],
      "metadata": {
        "id": "5UA1JBHAUNYa"
      }
    },
    {
      "cell_type": "code",
      "source": [
        "X_train, X_test, Y_train, Y_test = train_test_split(X, Y, test_size = 0.1)\n"
      ],
      "metadata": {
        "id": "CQ9YIxGj7YDf"
      },
      "execution_count": 19,
      "outputs": []
    },
    {
      "cell_type": "markdown",
      "source": [
        "NOW WE SUMMON THE LOGISTIC REGRESSION ESTIMATOR CLASS INTO THE MODEL VARIABLE AND TRAIN IT ON THE TRAIN DATA"
      ],
      "metadata": {
        "id": "2LJGKwa_XYDu"
      }
    },
    {
      "cell_type": "code",
      "source": [
        "model = LogisticRegression()\n",
        "model.fit(X_train, Y_train)"
      ],
      "metadata": {
        "colab": {
          "base_uri": "https://localhost:8080/",
          "height": 75
        },
        "id": "MM1WsLisSAxL",
        "outputId": "fcdd4520-6cc5-4a26-ccab-2278ceb5bfad"
      },
      "execution_count": 20,
      "outputs": [
        {
          "output_type": "execute_result",
          "data": {
            "text/plain": [
              "LogisticRegression()"
            ],
            "text/html": [
              "<style>#sk-container-id-1 {color: black;background-color: white;}#sk-container-id-1 pre{padding: 0;}#sk-container-id-1 div.sk-toggleable {background-color: white;}#sk-container-id-1 label.sk-toggleable__label {cursor: pointer;display: block;width: 100%;margin-bottom: 0;padding: 0.3em;box-sizing: border-box;text-align: center;}#sk-container-id-1 label.sk-toggleable__label-arrow:before {content: \"▸\";float: left;margin-right: 0.25em;color: #696969;}#sk-container-id-1 label.sk-toggleable__label-arrow:hover:before {color: black;}#sk-container-id-1 div.sk-estimator:hover label.sk-toggleable__label-arrow:before {color: black;}#sk-container-id-1 div.sk-toggleable__content {max-height: 0;max-width: 0;overflow: hidden;text-align: left;background-color: #f0f8ff;}#sk-container-id-1 div.sk-toggleable__content pre {margin: 0.2em;color: black;border-radius: 0.25em;background-color: #f0f8ff;}#sk-container-id-1 input.sk-toggleable__control:checked~div.sk-toggleable__content {max-height: 200px;max-width: 100%;overflow: auto;}#sk-container-id-1 input.sk-toggleable__control:checked~label.sk-toggleable__label-arrow:before {content: \"▾\";}#sk-container-id-1 div.sk-estimator input.sk-toggleable__control:checked~label.sk-toggleable__label {background-color: #d4ebff;}#sk-container-id-1 div.sk-label input.sk-toggleable__control:checked~label.sk-toggleable__label {background-color: #d4ebff;}#sk-container-id-1 input.sk-hidden--visually {border: 0;clip: rect(1px 1px 1px 1px);clip: rect(1px, 1px, 1px, 1px);height: 1px;margin: -1px;overflow: hidden;padding: 0;position: absolute;width: 1px;}#sk-container-id-1 div.sk-estimator {font-family: monospace;background-color: #f0f8ff;border: 1px dotted black;border-radius: 0.25em;box-sizing: border-box;margin-bottom: 0.5em;}#sk-container-id-1 div.sk-estimator:hover {background-color: #d4ebff;}#sk-container-id-1 div.sk-parallel-item::after {content: \"\";width: 100%;border-bottom: 1px solid gray;flex-grow: 1;}#sk-container-id-1 div.sk-label:hover label.sk-toggleable__label {background-color: #d4ebff;}#sk-container-id-1 div.sk-serial::before {content: \"\";position: absolute;border-left: 1px solid gray;box-sizing: border-box;top: 0;bottom: 0;left: 50%;z-index: 0;}#sk-container-id-1 div.sk-serial {display: flex;flex-direction: column;align-items: center;background-color: white;padding-right: 0.2em;padding-left: 0.2em;position: relative;}#sk-container-id-1 div.sk-item {position: relative;z-index: 1;}#sk-container-id-1 div.sk-parallel {display: flex;align-items: stretch;justify-content: center;background-color: white;position: relative;}#sk-container-id-1 div.sk-item::before, #sk-container-id-1 div.sk-parallel-item::before {content: \"\";position: absolute;border-left: 1px solid gray;box-sizing: border-box;top: 0;bottom: 0;left: 50%;z-index: -1;}#sk-container-id-1 div.sk-parallel-item {display: flex;flex-direction: column;z-index: 1;position: relative;background-color: white;}#sk-container-id-1 div.sk-parallel-item:first-child::after {align-self: flex-end;width: 50%;}#sk-container-id-1 div.sk-parallel-item:last-child::after {align-self: flex-start;width: 50%;}#sk-container-id-1 div.sk-parallel-item:only-child::after {width: 0;}#sk-container-id-1 div.sk-dashed-wrapped {border: 1px dashed gray;margin: 0 0.4em 0.5em 0.4em;box-sizing: border-box;padding-bottom: 0.4em;background-color: white;}#sk-container-id-1 div.sk-label label {font-family: monospace;font-weight: bold;display: inline-block;line-height: 1.2em;}#sk-container-id-1 div.sk-label-container {text-align: center;}#sk-container-id-1 div.sk-container {/* jupyter's `normalize.less` sets `[hidden] { display: none; }` but bootstrap.min.css set `[hidden] { display: none !important; }` so we also need the `!important` here to be able to override the default hidden behavior on the sphinx rendered scikit-learn.org. See: https://github.com/scikit-learn/scikit-learn/issues/21755 */display: inline-block !important;position: relative;}#sk-container-id-1 div.sk-text-repr-fallback {display: none;}</style><div id=\"sk-container-id-1\" class=\"sk-top-container\"><div class=\"sk-text-repr-fallback\"><pre>LogisticRegression()</pre><b>In a Jupyter environment, please rerun this cell to show the HTML representation or trust the notebook. <br />On GitHub, the HTML representation is unable to render, please try loading this page with nbviewer.org.</b></div><div class=\"sk-container\" hidden><div class=\"sk-item\"><div class=\"sk-estimator sk-toggleable\"><input class=\"sk-toggleable__control sk-hidden--visually\" id=\"sk-estimator-id-1\" type=\"checkbox\" checked><label for=\"sk-estimator-id-1\" class=\"sk-toggleable__label sk-toggleable__label-arrow\">LogisticRegression</label><div class=\"sk-toggleable__content\"><pre>LogisticRegression()</pre></div></div></div></div></div>"
            ]
          },
          "metadata": {},
          "execution_count": 20
        }
      ]
    },
    {
      "cell_type": "markdown",
      "source": [
        "NOW WE USE THE TEST DATA TO MAKE PREDICTIONS OF THE PROFIT AND NON PROFIT TRADES"
      ],
      "metadata": {
        "id": "scC8N0LAUsYA"
      }
    },
    {
      "cell_type": "code",
      "source": [
        "Y_predict = model.predict(X_test)\n",
        "accuracy = accuracy_score(Y_predict, Y_test)\n",
        "print(accuracy*100)"
      ],
      "metadata": {
        "id": "uvVZKLjISQNp",
        "colab": {
          "base_uri": "https://localhost:8080/"
        },
        "outputId": "cfac8127-a8be-449c-ab19-906c64e15396"
      },
      "execution_count": 21,
      "outputs": [
        {
          "output_type": "stream",
          "name": "stdout",
          "text": [
            "89.55223880597015\n"
          ]
        }
      ]
    },
    {
      "cell_type": "markdown",
      "source": [
        "WE OBSERVE THAT THE MODEL WAS SUCCESFULLY ABLE TO PREDICT APPROXIMATELY 92% TIMES THE PROFITABLE TRADES FROM THE NON - PROFITABLE ONES"
      ],
      "metadata": {
        "id": "WfeFx-2XUzkl"
      }
    },
    {
      "cell_type": "markdown",
      "source": [
        "NOW WE USE CROSS VALIDATION FOR MORE ROBUST TESTING OF THE MODEL OVER DIFFERENT PERMUTATIONS AND COMBINATIONS OF DATA"
      ],
      "metadata": {
        "id": "b-Whr1bcVB6a"
      }
    },
    {
      "cell_type": "code",
      "source": [
        "scores = cross_val_score(model, X, Y, cv=5)\n",
        "for i in range(0, 5):\n",
        "  print('THE SCORE FOR ', i + 1, 'CROSS VALIDATION SET IS : ', \"{:.2f}\".format(scores[i] * 100),'% ACCURACY')"
      ],
      "metadata": {
        "colab": {
          "base_uri": "https://localhost:8080/"
        },
        "id": "BJDutdMV90sN",
        "outputId": "39cc5a4a-d723-4c9f-c267-1539075fd271"
      },
      "execution_count": 22,
      "outputs": [
        {
          "output_type": "stream",
          "name": "stdout",
          "text": [
            "THE SCORE FOR  1 CROSS VALIDATION SET IS :  91.34 % ACCURACY\n",
            "THE SCORE FOR  2 CROSS VALIDATION SET IS :  93.43 % ACCURACY\n",
            "THE SCORE FOR  3 CROSS VALIDATION SET IS :  82.69 % ACCURACY\n",
            "THE SCORE FOR  4 CROSS VALIDATION SET IS :  91.64 % ACCURACY\n",
            "THE SCORE FOR  5 CROSS VALIDATION SET IS :  89.84 % ACCURACY\n"
          ]
        }
      ]
    },
    {
      "cell_type": "markdown",
      "source": [
        "SCORES OF 5 DIFFERENT PERMUTATION AND COMBINATION THE THE DATA"
      ],
      "metadata": {
        "id": "-zBPJoHAVSgE"
      }
    }
  ]
}